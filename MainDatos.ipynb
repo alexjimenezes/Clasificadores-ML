{
 "metadata": {
  "language_info": {
   "codemirror_mode": {
    "name": "ipython",
    "version": 3
   },
   "file_extension": ".py",
   "mimetype": "text/x-python",
   "name": "python",
   "nbconvert_exporter": "python",
   "pygments_lexer": "ipython3",
   "version": "3.8.5-final"
  },
  "orig_nbformat": 2,
  "kernelspec": {
   "name": "python38564bitfaaconda182be48403684566abe735bf07221be0",
   "display_name": "Python 3.8.5 64-bit ('FAA': conda)"
  }
 },
 "nbformat": 4,
 "nbformat_minor": 2,
 "cells": [
  {
   "source": [
    "# Practica 0\n",
    "## Diego Rodríguez y Alejandro Jiménez\n",
    "## Grupo 1463"
   ],
   "cell_type": "markdown",
   "metadata": {}
  },
  {
   "cell_type": "code",
   "execution_count": 1,
   "metadata": {
    "tags": []
   },
   "outputs": [
    {
     "output_type": "stream",
     "name": "stdout",
     "text": "[[ 0.  6.  8. ... 51. 52.  1.]\n [ 1. 48.  6. ... 50. 52.  2.]\n [ 3. 12.  8. ... 50. 52.  1.]\n ...\n [ 3. 12.  6. ... 50. 52.  1.]\n [ 0. 45.  6. ... 51. 52.  2.]\n [ 1. 45.  8. ... 50. 52.  1.]]\n[[ 2.  5.  8. ... 22. 25. 28.]\n [ 2.  5.  8. ... 23. 25. 28.]\n [ 2.  5.  8. ... 22. 26. 28.]\n ...\n [ 1.  5.  7. ... 22. 26. 27.]\n [ 1.  5.  7. ... 22. 26. 27.]\n [ 1.  4.  8. ... 23. 26. 27.]]\n"
    }
   ],
   "source": [
    "from Datos import Datos\n",
    "\n",
    "if __name__ == '__main__':\n",
    "    d1 = Datos(\"./ConjuntoDatos/german.data\")\n",
    "    print(d1.datos)\n",
    "    d2 = Datos(\"./ConjuntoDatos/tic-tac-toe.data\")\n",
    "    print(d2.datos)"
   ]
  },
  {
   "source": [
    "## Memoria\n",
    "\n",
    "Lo que más nos ha costado en la práctica ha sido retomar python y comenzar a usar pandas y numpy. Nos ha llevado tiempo de investigación averiguar como utilizar los arrays de numpy y que son los dataframes de pandas, pero una vez sabíamos utilizarlos han resultado muy útiles en la práctica.\n",
    "\n",
    "También nos han surgido varias dudas de implementación durante el desarrollo:\n",
    "\n",
    "1. No sabiámos bien si necesitabamos crear un único diccionario para las variables nominales or un diccionario distimto para campo nominal. Hemos decidido implementar un diccionario de diccionarios donde la clave de los diccionarios de primer orden es el nombre de la columna y su valor es el diccionario que le corresponde a los valores nominales de la columna. Si esta implementaciçon resultase poco eficiente, en un futuro se podría sustituir por una lista de diccionarios donde los diccionarios estén indexados por número de fila teniendo en cuenta el array AtributosNominales.\n",
    "\n",
    "2. No comprendíamos tampoco si se debía sustituir directamente los valores en el array de datos. Nuestra decisión de implementación ha sido utilizar un numpy array temporal y luego pasar los datos al array de la clase llamado Datos teniendo en cuanta los valores del diccionario. Lo que nos resultaba un poco contra intuitivo era que si quería volver a recuperar en el diccionario las claves, estaría buscando por valor en vez de por clave, que es como generalmente se utiliza un diccionario.\n",
    "\n",
    "### Trabajo en pareja\n",
    "\n",
    "Para organizarnos hemos decidido trabajar desde VSC utilizando la extensión live share para poder hacer modificaciones simultáneas y en tiempo real en el mismo archivo. Esta extensión también tiene la habilidad de comunicarse por audio así que crea un entorno de trabajo en pareja agradable y eficaz que mantendremos para las futurras prácticas."
   ],
   "cell_type": "markdown",
   "metadata": {}
  }
 ]
}