{
 "cells": [
  {
   "cell_type": "code",
   "execution_count": 1,
   "metadata": {
    "collapsed": true
   },
   "outputs": [],
   "source": [
    "from Datos import *\n",
    "from Clasificador import *\n",
    "from EstrategiaParticionado import *"
   ]
  },
  {
   "cell_type": "code",
   "execution_count": 4,
   "outputs": [
    {
     "data": {
      "text/plain": "<IPython.core.display.Javascript object>",
      "application/javascript": "IPython.OutputArea.prototype._should_scroll = function(lines) {\n    return false;\n}\n"
     },
     "metadata": {},
     "output_type": "display_data"
    }
   ],
   "source": [
    "%%javascript\n",
    "IPython.OutputArea.prototype._should_scroll = function(lines) {\n",
    "    return false;\n",
    "}"
   ],
   "metadata": {
    "collapsed": false,
    "pycharm": {
     "name": "#%%\n"
    }
   }
  },
  {
   "cell_type": "code",
   "execution_count": 5,
   "outputs": [
    {
     "name": "stdout",
     "output_type": "stream",
     "text": [
      "Epoca 4: \tAcierto medio = 0.6163\t Acierto Max = 0.7503\n",
      "\n",
      "Epoca 9: \tAcierto medio = 0.6562\t Acierto Max = 0.7503\n",
      "\n",
      "Epoca 14: \tAcierto medio = 0.6968\t Acierto Max = 0.7763\n",
      "\n",
      "Epoca 19: \tAcierto medio = 0.7336\t Acierto Max = 0.7763\n",
      "\n",
      "Epoca 24: \tAcierto medio = 0.7493\t Acierto Max = 0.7763\n",
      "\n",
      "Epoca 29: \tAcierto medio = 0.7572\t Acierto Max = 0.7763\n",
      "\n",
      "Epoca 34: \tAcierto medio = 0.7555\t Acierto Max = 0.7763\n",
      "\n",
      "Epoca 39: \tAcierto medio = 0.7659\t Acierto Max = 0.7763\n",
      "\n",
      "Epoca 44: \tAcierto medio = 0.7715\t Acierto Max = 0.7763\n",
      "\n",
      "Epoca 49: \tAcierto medio = 0.7667\t Acierto Max = 0.7763\n",
      "\n",
      "Epoca 54: \tAcierto medio = 0.7668\t Acierto Max = 0.7763\n",
      "\n",
      "Epoca 59: \tAcierto medio = 0.7700\t Acierto Max = 0.7763\n",
      "\n",
      "Epoca 64: \tAcierto medio = 0.7720\t Acierto Max = 0.7763\n",
      "\n",
      "Epoca 69: \tAcierto medio = 0.7596\t Acierto Max = 0.7763\n",
      "\n",
      "Epoca 74: \tAcierto medio = 0.7689\t Acierto Max = 0.7763\n",
      "\n",
      "Epoca 79: \tAcierto medio = 0.7653\t Acierto Max = 0.7804\n",
      "\n",
      "Epoca 84: \tAcierto medio = 0.7718\t Acierto Max = 0.7804\n",
      "\n",
      "Epoca 89: \tAcierto medio = 0.7625\t Acierto Max = 0.7804\n",
      "\n",
      "Epoca 94: \tAcierto medio = 0.7639\t Acierto Max = 0.7804\n",
      "\n",
      "Epoca 99: \tAcierto medio = 0.7679\t Acierto Max = 0.7804\n",
      "\n"
     ]
    },
    {
     "ename": "ValueError",
     "evalue": "15.0 is not in list",
     "output_type": "error",
     "traceback": [
      "\u001B[1;31m---------------------------------------------------------------------------\u001B[0m",
      "\u001B[1;31mValueError\u001B[0m                                Traceback (most recent call last)",
      "\u001B[1;32m<ipython-input-5-729df018d763>\u001B[0m in \u001B[0;36m<module>\u001B[1;34m\u001B[0m\n\u001B[0;32m      7\u001B[0m \u001B[0magen\u001B[0m \u001B[1;33m=\u001B[0m \u001B[0mAlgoritmoGenetico\u001B[0m\u001B[1;33m(\u001B[0m\u001B[1;36m50\u001B[0m\u001B[1;33m,\u001B[0m \u001B[1;36m100\u001B[0m\u001B[1;33m)\u001B[0m\u001B[1;33m\u001B[0m\u001B[1;33m\u001B[0m\u001B[0m\n\u001B[0;32m      8\u001B[0m \u001B[0magen\u001B[0m\u001B[1;33m.\u001B[0m\u001B[0mentrenamiento\u001B[0m\u001B[1;33m(\u001B[0m\u001B[0mparticion_train\u001B[0m\u001B[1;33m,\u001B[0m \u001B[1;32mNone\u001B[0m\u001B[1;33m,\u001B[0m \u001B[1;32mNone\u001B[0m\u001B[1;33m)\u001B[0m\u001B[1;33m\u001B[0m\u001B[1;33m\u001B[0m\u001B[0m\n\u001B[1;32m----> 9\u001B[1;33m \u001B[0mp\u001B[0m \u001B[1;33m=\u001B[0m \u001B[0magen\u001B[0m\u001B[1;33m.\u001B[0m\u001B[0mclasifica\u001B[0m\u001B[1;33m(\u001B[0m\u001B[0mparticion_test\u001B[0m\u001B[1;33m,\u001B[0m \u001B[1;32mNone\u001B[0m\u001B[1;33m,\u001B[0m \u001B[1;32mNone\u001B[0m\u001B[1;33m)\u001B[0m\u001B[1;33m\u001B[0m\u001B[1;33m\u001B[0m\u001B[0m\n\u001B[0m\u001B[0;32m     10\u001B[0m \u001B[1;33m\u001B[0m\u001B[0m\n\u001B[0;32m     11\u001B[0m \u001B[1;33m\u001B[0m\u001B[0m\n",
      "\u001B[1;32m~\\PycharmProjects\\FAA_P1\\Clasificador.py\u001B[0m in \u001B[0;36mclasifica\u001B[1;34m(self, datosTest, atributosDiscretos, diccionario)\u001B[0m\n\u001B[0;32m    469\u001B[0m             \u001B[0maciertos\u001B[0m \u001B[1;33m=\u001B[0m \u001B[1;36m0\u001B[0m\u001B[1;33m\u001B[0m\u001B[1;33m\u001B[0m\u001B[0m\n\u001B[0;32m    470\u001B[0m             \u001B[1;32mfor\u001B[0m \u001B[0mvector\u001B[0m \u001B[1;32min\u001B[0m \u001B[0mdatosTest\u001B[0m\u001B[1;33m:\u001B[0m\u001B[1;33m\u001B[0m\u001B[1;33m\u001B[0m\u001B[0m\n\u001B[1;32m--> 471\u001B[1;33m                 \u001B[0mindi\u001B[0m \u001B[1;33m=\u001B[0m \u001B[0mself\u001B[0m\u001B[1;33m.\u001B[0m\u001B[0mconvertir_a_individuo\u001B[0m\u001B[1;33m(\u001B[0m\u001B[0mvector\u001B[0m\u001B[1;33m[\u001B[0m\u001B[1;33m:\u001B[0m\u001B[1;33m-\u001B[0m\u001B[1;36m1\u001B[0m\u001B[1;33m]\u001B[0m\u001B[1;33m)\u001B[0m\u001B[1;33m\u001B[0m\u001B[1;33m\u001B[0m\u001B[0m\n\u001B[0m\u001B[0;32m    472\u001B[0m                 \u001B[1;32mif\u001B[0m \u001B[0mself\u001B[0m\u001B[1;33m.\u001B[0m\u001B[0maplicar_regla\u001B[0m\u001B[1;33m(\u001B[0m\u001B[0mregla\u001B[0m\u001B[1;33m,\u001B[0m \u001B[0mindi\u001B[0m\u001B[1;33m)\u001B[0m \u001B[1;33m==\u001B[0m \u001B[0mvector\u001B[0m\u001B[1;33m[\u001B[0m\u001B[1;33m-\u001B[0m\u001B[1;36m1\u001B[0m\u001B[1;33m]\u001B[0m\u001B[1;33m:\u001B[0m\u001B[1;33m\u001B[0m\u001B[1;33m\u001B[0m\u001B[0m\n\u001B[0;32m    473\u001B[0m                     \u001B[0maciertos\u001B[0m \u001B[1;33m+=\u001B[0m \u001B[1;36m1\u001B[0m\u001B[1;33m\u001B[0m\u001B[1;33m\u001B[0m\u001B[0m\n",
      "\u001B[1;32m~\\PycharmProjects\\FAA_P1\\Clasificador.py\u001B[0m in \u001B[0;36mconvertir_a_individuo\u001B[1;34m(self, vector)\u001B[0m\n\u001B[0;32m    388\u001B[0m         \u001B[0mindi\u001B[0m \u001B[1;33m=\u001B[0m \u001B[1;33m[\u001B[0m\u001B[1;33m]\u001B[0m\u001B[1;33m\u001B[0m\u001B[1;33m\u001B[0m\u001B[0m\n\u001B[0;32m    389\u001B[0m         \u001B[1;32mfor\u001B[0m \u001B[0matt\u001B[0m \u001B[1;32min\u001B[0m \u001B[0mrange\u001B[0m\u001B[1;33m(\u001B[0m\u001B[0mlen\u001B[0m\u001B[1;33m(\u001B[0m\u001B[0mvector\u001B[0m\u001B[1;33m)\u001B[0m\u001B[1;33m)\u001B[0m\u001B[1;33m:\u001B[0m\u001B[1;33m\u001B[0m\u001B[1;33m\u001B[0m\u001B[0m\n\u001B[1;32m--> 390\u001B[1;33m             \u001B[0mposicion\u001B[0m \u001B[1;33m=\u001B[0m \u001B[0mself\u001B[0m\u001B[1;33m.\u001B[0m\u001B[0matt_features_vals\u001B[0m\u001B[1;33m[\u001B[0m\u001B[0matt\u001B[0m\u001B[1;33m]\u001B[0m\u001B[1;33m.\u001B[0m\u001B[0mindex\u001B[0m\u001B[1;33m(\u001B[0m\u001B[0mvector\u001B[0m\u001B[1;33m[\u001B[0m\u001B[0matt\u001B[0m\u001B[1;33m]\u001B[0m\u001B[1;33m)\u001B[0m\u001B[1;33m\u001B[0m\u001B[1;33m\u001B[0m\u001B[0m\n\u001B[0m\u001B[0;32m    391\u001B[0m             \u001B[1;31m# Posibilidad de usar diccionario creado al inicio para reducir coste de acceso y operaciones\u001B[0m\u001B[1;33m\u001B[0m\u001B[1;33m\u001B[0m\u001B[1;33m\u001B[0m\u001B[0m\n\u001B[0;32m    392\u001B[0m             \u001B[1;32mfor\u001B[0m \u001B[0mi\u001B[0m \u001B[1;32min\u001B[0m \u001B[0mrange\u001B[0m\u001B[1;33m(\u001B[0m\u001B[0mself\u001B[0m\u001B[1;33m.\u001B[0m\u001B[0matt_features\u001B[0m\u001B[1;33m[\u001B[0m\u001B[0matt\u001B[0m\u001B[1;33m]\u001B[0m\u001B[1;33m)\u001B[0m\u001B[1;33m:\u001B[0m\u001B[1;33m\u001B[0m\u001B[1;33m\u001B[0m\u001B[0m\n",
      "\u001B[1;31mValueError\u001B[0m: 15.0 is not in list"
     ]
    }
   ],
   "source": [
    "data = Datos(\"ConjuntoDatos/titanic.csv\")\n",
    "vs = ValidacionSimple(0.30, 10)\n",
    "particiones_idx = vs.creaParticiones(data.datos)\n",
    "particion_train = data.extraeDatos(particiones_idx[0].indicesTrain)\n",
    "particion_test = data.extraeDatos(particiones_idx[0].indicesTest)\n",
    "\n",
    "agen = AlgoritmoGenetico(50, 100)\n",
    "agen.entrenamiento(particion_train, None, None)\n",
    "p = agen.clasifica(particion_test, None, None)\n",
    "\n"
   ],
   "metadata": {
    "collapsed": false,
    "pycharm": {
     "name": "#%%\n"
    }
   }
  }
 ],
 "metadata": {
  "kernelspec": {
   "display_name": "Python 3",
   "language": "python",
   "name": "python3"
  },
  "language_info": {
   "codemirror_mode": {
    "name": "ipython",
    "version": 2
   },
   "file_extension": ".py",
   "mimetype": "text/x-python",
   "name": "python",
   "nbconvert_exporter": "python",
   "pygments_lexer": "ipython2",
   "version": "2.7.6"
  }
 },
 "nbformat": 4,
 "nbformat_minor": 0
}