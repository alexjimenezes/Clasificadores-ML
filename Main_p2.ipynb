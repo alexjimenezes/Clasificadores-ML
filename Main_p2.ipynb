{
 "metadata": {
  "language_info": {
   "codemirror_mode": {
    "name": "ipython",
    "version": 3
   },
   "file_extension": ".py",
   "mimetype": "text/x-python",
   "name": "python",
   "nbconvert_exporter": "python",
   "pygments_lexer": "ipython3",
   "version": "3.8.5-final"
  },
  "orig_nbformat": 2,
  "kernelspec": {
   "name": "python38564bitfaaconda182be48403684566abe735bf07221be0",
   "display_name": "Python 3.8.5 64-bit ('FAA': conda)"
  }
 },
 "nbformat": 4,
 "nbformat_minor": 2,
 "cells": [
  {
   "source": [
    "# Practica 2\n",
    "## Diego Rodríguez y Alejandro Jiménez\n",
    "## Grupo 1463"
   ],
   "cell_type": "markdown",
   "metadata": {}
  },
  {
   "cell_type": "code",
   "execution_count": 1,
   "metadata": {},
   "outputs": [],
   "source": [
    "from abc import ABCMeta,abstractmethod\n",
    "import pandas as pd\n",
    "import numpy as np\n",
    "from Datos import *\n",
    "from EstrategiaParticionado import *\n",
    "from Clasificador import *\n",
    "from Distancia import *\n",
    "from sklearn.preprocessing import OneHotEncoder\n",
    "from sklearn.model_selection import train_test_split\n",
    "from sklearn.model_selection import cross_val_score\n",
    "from sklearn.naive_bayes import GaussianNB\n",
    "from sklearn.neighbors import KNeighborsClassifier\n",
    "from sklearn.linear_model import LogisticRegression\n",
    "from prettytable import PrettyTable\n",
    "import matplotlib.pyplot as plt"
   ]
  },
  {
   "source": [
    "## KNN IMPLEMENTACION PROPIA"
   ],
   "cell_type": "markdown",
   "metadata": {}
  },
  {
   "cell_type": "code",
   "execution_count": 7,
   "metadata": {},
   "outputs": [
    {
     "output_type": "error",
     "ename": "SyntaxError",
     "evalue": "invalid syntax (<ipython-input-7-bacd32ece94e>, line 41)",
     "traceback": [
      "\u001b[0;36m  File \u001b[0;32m\"<ipython-input-7-bacd32ece94e>\"\u001b[0;36m, line \u001b[0;32m41\u001b[0m\n\u001b[0;31m    print(t)\u001b[0m\n\u001b[0m    ^\u001b[0m\n\u001b[0;31mSyntaxError\u001b[0m\u001b[0;31m:\u001b[0m invalid syntax\n"
     ]
    }
   ],
   "source": [
    "diabetes = Datos('./ConjuntoDatos/pima-indians-diabetes.csv')\n",
    "wdbc = Datos('./ConjuntoDatos/pima-indians-diabetes.csv')\n",
    "# Validacion simple con 100 iteraciones\n",
    "vs = ValidacionSimple(0.30, 10)\n",
    "\n",
    "datasets = [('diabetes', diabetes), ('wdbc', wdbc)]\n",
    "\n",
    "distancias = []\n",
    "de = DistanciaEuclidea()\n",
    "dt = DistanciaManhattan()\n",
    "dm = DistanciaMahalanobis()\n",
    "distancias.append(de)\n",
    "distancias.append(dt)\n",
    "distancias.append(dm)\n",
    "# Vecinos a utilizar\n",
    "vecinos = [1, 3, 5, 11, 21]\n",
    "# Normalizacion\n",
    "normalizar = [True, False]\n",
    "\n",
    "for d in datasets:\n",
    "    t = PrettyTable()\n",
    "    t.add_row([\" \", \" \", \" \", \" \", \" \", \" \", d[0]])\n",
    "    t.add_row([\"Vecinos\", str(distancias[0]), \" \", str(distancias[1]), \" \", str(distancias[2]), \" \"])\n",
    "    t.add_row([\" \", \"Normalizado\", \" \", \"Normalizado\", \" \", \"Normalizado\", \" \"])\n",
    "    t.add_row([\" \", \"Si\", \"No\", \"Si\", \"No\", \"Si\", \"No\"])\n",
    "    for idk, k in enumerate(vecinos):\n",
    "        error = [[[],[],[]],[[],[],[]]]\n",
    "        desv = [[[],[],[]],[[],[],[]]]\n",
    "        for n in range(2):\n",
    "            for idnor, norm in enumerate(normalizar):\n",
    "                for idd, d in enumerate(distancias):\n",
    "                    clas = ClasificadorVecinosProximos(k=k, distancia=d, normalizar=norm)\n",
    "                    error[idnorm][idd].append(clas.validacion(particionado=vs, dataset=d[1]))\n",
    "        \n",
    "        for idnor, norm in enumerate(normalizar):\n",
    "            for idd, d in enumerate(distancias):\n",
    "                error_t = error[idnorm][idd]\n",
    "                error[idnorm][idd] = np.mean(error_t)\n",
    "                # desv[idnorm][idd] = np.std(error_t)\n",
    "        t.add_row(str(k), str(error[0][0], str(error[1][0], str(error[0][1], str(error[1][1], str(error[0][2], str(error[1][2]))\n",
    "    print(t)\n",
    "\n",
    "#knn = CalsificadorVecinosProximos(k=5, distancia=de)\n",
    "\n",
    "#error = knn.validacion(vs, dataset)\n",
    "\n",
    "#print(error)"
   ]
  },
  {
   "source": [
    "## SKLEARN KNN"
   ],
   "cell_type": "markdown",
   "metadata": {}
  },
  {
   "cell_type": "code",
   "execution_count": 25,
   "metadata": {},
   "outputs": [
    {
     "output_type": "stream",
     "name": "stdout",
     "text": [
      "Error con validación simple:0.2713852813852812\n",
      "Error con validación cruzada:0.2774966261808371\n"
     ]
    }
   ],
   "source": [
    "data = pd.read_csv('./ConjuntoDatos/pima-indians-diabetes.csv')\n",
    "# X_data = pd.get_dummies(data.iloc[:, :-1])\n",
    "X_data = data.iloc[:, :-1]\n",
    "Y_data = data.iloc[:, -1]\n",
    "#### Split dataset for simple validation\n",
    "error = 0\n",
    "for i in range(100):\n",
    "    xTrain, xTest, yTrain, yTest = train_test_split(X_data, Y_data, test_size=0.3)\n",
    "    clf_knn = KNeighborsClassifier(n_neighbors=7)\n",
    "    clf_knn.fit(xTrain, yTrain)\n",
    "    error += clf_knn.score(xTest, yTest)\n",
    "print(\"Error con validación simple:\" + str(1 - (error/(i+1))))\n",
    "\n",
    "sk_cruzada = 0\n",
    "for i in range(100):\n",
    "    clf_knn = KNeighborsClassifier()\n",
    "    scores = cross_val_score(clf_knn, X_data, Y_data, cv=20)\n",
    "    sk_cruzada += (1 - scores).mean()\n",
    "\n",
    "print(\"Error con validación cruzada:\" + str(sk_cruzada/(i+1)))"
   ]
  },
  {
   "source": [
    "## Reg Log Implementación Propia"
   ],
   "cell_type": "markdown",
   "metadata": {}
  },
  {
   "cell_type": "code",
   "execution_count": null,
   "metadata": {},
   "outputs": [],
   "source": [
    "dataset = Datos('./ConjuntoDatos/pima-indians-diabetes.csv')\n",
    "\n",
    "# Validacion simple con 100 iteraciones\n",
    "vs = ValidacionSimple(0.30, 10)\n",
    "\n",
    "# Creación del clasificador con d euclidea\n",
    "reg_log = ClasificadorRegresionLogistica()\n",
    "\n",
    "# Coge una particion de muestra\n",
    "particiones_idx = vs.creaParticiones(dataset.datos)\n",
    "\n",
    "error = 0\n",
    "\n",
    "for particion in particiones_idx:\n",
    "    particion_train = dataset.extraeDatos(particion.indicesTrain)\n",
    "    particion_test = dataset.extraeDatos(particion.indicesTest)\n",
    "    # Entrena el clasificador\n",
    "    reg_log.entrenamiento(particion_train)\n",
    "    # Clasifica\n",
    "    pred = reg_log.clasifica(particion_test)\n",
    "    # Calculamos el error\n",
    "    error += reg_log.error(particion_test, pred)\n",
    "\n",
    "print(error/len(particiones_idx))"
   ]
  },
  {
   "source": [
    "## SKLEARN Reg Log"
   ],
   "cell_type": "markdown",
   "metadata": {}
  },
  {
   "cell_type": "code",
   "execution_count": 3,
   "metadata": {},
   "outputs": [
    {
     "output_type": "stream",
     "name": "stdout",
     "text": [
      "Error con validación simple:0.22965367965367955\n",
      "Error con validación cruzada:0.23424426450742197\n"
     ]
    }
   ],
   "source": [
    "data = pd.read_csv('./ConjuntoDatos/pima-indians-diabetes.csv')\n",
    "# X_data = pd.get_dummies(data.iloc[:, :-1])\n",
    "X_data = data.iloc[:, :-1]\n",
    "Y_data = data.iloc[:, -1]\n",
    "#### Split dataset for simple validation\n",
    "error = 0\n",
    "for i in range(100):\n",
    "    xTrain, xTest, yTrain, yTest = train_test_split(X_data, Y_data, test_size=0.3)\n",
    "    clf_lreg = LogisticRegression(random_state=0).fit(xTrain, yTrain)\n",
    "    error += clf_lreg.score(xTest, yTest)\n",
    "print(\"Error con validación simple:\" + str(1 - (error/(i+1))))\n",
    "\n",
    "sk_cruzada = 0\n",
    "for i in range(100):\n",
    "    clf_lreg = LogisticRegression()\n",
    "    scores = cross_val_score(clf_lreg, X_data, Y_data, cv=20)\n",
    "    sk_cruzada += (1 - scores).mean()\n",
    "\n",
    "print(\"Error con validación cruzada:\" + str(sk_cruzada/(i+1)))"
   ]
  },
  {
   "cell_type": "code",
   "execution_count": null,
   "metadata": {},
   "outputs": [],
   "source": []
  },
  {
   "cell_type": "code",
   "execution_count": null,
   "metadata": {},
   "outputs": [],
   "source": []
  }
 ]
}