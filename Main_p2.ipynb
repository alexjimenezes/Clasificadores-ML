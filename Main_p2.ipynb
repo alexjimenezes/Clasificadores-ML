{
 "metadata": {
  "language_info": {
   "codemirror_mode": {
    "name": "ipython",
    "version": 3
   },
   "file_extension": ".py",
   "mimetype": "text/x-python",
   "name": "python",
   "nbconvert_exporter": "python",
   "pygments_lexer": "ipython3",
   "version": "3.8.5-final"
  },
  "orig_nbformat": 2,
  "kernelspec": {
   "name": "python38564bitfaaconda182be48403684566abe735bf07221be0",
   "display_name": "Python 3.8.5 64-bit ('FAA': conda)"
  }
 },
 "nbformat": 4,
 "nbformat_minor": 2,
 "cells": [
  {
   "source": [
    "# Practica 2\n",
    "## Diego Rodríguez y Alejandro Jiménez\n",
    "## Grupo 1463"
   ],
   "cell_type": "markdown",
   "metadata": {}
  },
  {
   "cell_type": "code",
   "execution_count": 7,
   "metadata": {},
   "outputs": [],
   "source": [
    "from abc import ABCMeta,abstractmethod\n",
    "import pandas as pd\n",
    "import numpy as np\n",
    "from Datos import *\n",
    "from EstrategiaParticionado import *\n",
    "from Clasificador import *\n",
    "from sklearn.preprocessing import OneHotEncoder\n",
    "from sklearn.model_selection import train_test_split\n",
    "from sklearn.model_selection import cross_val_score\n",
    "from sklearn.naive_bayes import GaussianNB\n",
    "import matplotlib.pyplot as plt"
   ]
  },
  {
   "cell_type": "code",
   "execution_count": 8,
   "metadata": {},
   "outputs": [
    {
     "output_type": "stream",
     "name": "stdout",
     "text": [
      "0.5865217391304347\n"
     ]
    }
   ],
   "source": [
    "dataset = Datos('./ConjuntoDatos/pima-indians-diabetes.csv')\n",
    "# Validacion simple con 100 iteraciones\n",
    "vs = ValidacionSimple(0.30, 10)\n",
    "\n",
    "# Creación del clasificador con d euclidea\n",
    "knn = CalsificadorVecinosProximos()\n",
    "de = DistanciaEuclidea()\n",
    "\n",
    "# Coge una particion de muestra\n",
    "particiones_idx = vs.creaParticiones(dataset.datos)\n",
    "\n",
    "error = 0\n",
    "\n",
    "for particion in particiones_idx:\n",
    "    particion_train = dataset.extraeDatos(particion.indicesTrain)\n",
    "    particion_test = dataset.extraeDatos(particion.indicesTest)\n",
    "    # Entrena el clasificador\n",
    "    knn.entrenamiento(particion_train)\n",
    "    # Clasifica\n",
    "    pred = knn.clasifica(particion_test, de, k=7)\n",
    "    # Calculamos el error\n",
    "    error += knn.error(particion_test, pred)\n",
    "\n",
    "print(error/len(particiones_idx))\n",
    "\n",
    "\n"
   ]
  },
  {
   "cell_type": "code",
   "execution_count": null,
   "metadata": {},
   "outputs": [],
   "source": [
    "dataset = Datos('./ConjuntoDatos/pima-indians-diabetes.csv')\n",
    "# Validacion simple con 100 iteraciones\n",
    "vs = ValidacionSimple(0.30, 10)\n",
    "\n",
    "# Creación del clasificador con d euclidea\n",
    "reg_log = ClasificadorRegresionLogistica()\n",
    "\n",
    "# Coge una particion de muestra\n",
    "particiones_idx = vs.creaParticiones(dataset.datos)\n",
    "\n",
    "error = 0\n",
    "\n",
    "for particion in particiones_idx:\n",
    "    particion_train = dataset.extraeDatos(particion.indicesTrain)\n",
    "    particion_test = dataset.extraeDatos(particion.indicesTest)\n",
    "    # Entrena el clasificador\n",
    "    reg_log.entrenamiento(particion_train)\n",
    "    print(reg_log.coef)\n",
    "    # Clasifica\n",
    "    pred = reg_log.clasifica(particion_test)\n",
    "    # Calculamos el error\n",
    "    error += reg_log.error(particion_test, pred)\n",
    "\n",
    "print(error/len(particiones_idx))"
   ]
  }
 ]
}