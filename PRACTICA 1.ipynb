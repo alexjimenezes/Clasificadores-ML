{
 "cells": [
  {
   "cell_type": "code",
   "execution_count": 2,
   "metadata": {},
   "outputs": [
    {
     "name": "stdout",
     "output_type": "stream",
     "text": [
      "(958, 10)\n",
      "5\n",
      "287\n",
      "671\n",
      "5\n",
      "0.20041753653444677\n",
      "0.7995824634655533\n"
     ]
    }
   ],
   "source": [
    "from Datos import *\n",
    "from EstrategiaParticionado import *\n",
    "#vamos a probar los dos métodos de particionado con el fichero de datos 'tic-tac-toe.data'\n",
    "if __name__ == '__main__':\n",
    "    #Cargamos los datos en d\n",
    "    d=Datos(\"./ConjuntoDatos/tic-tac-toe.data\")\n",
    "    #Mostramos la dimensión de los datos: (958, 10), tenemos 958 ejemplos y 10 atributos\n",
    "    print(d.datos.shape)\n",
    "    #Vamos a probar la validación simple, repartiendo el 30% de los datos en el test data y 70% en el training.\n",
    "    #Esto lo haremos 5 veces, y lo guardaremos en una lista.\n",
    "    vs = ValidacionSimple(0.30, 5)\n",
    "    particiones_vs  = vs.creaParticiones(d.datos)\n",
    "    #particiones_vs debería contener 5 elementos, en los cuales los atributos indicesTest, indicesTrain deberían\n",
    "    #ser aprox 30%, 70% respectivamente de 958. Probemos con el primer elemento de la lista.\n",
    "    print(len(particiones_vs))\n",
    "    print(len(particiones_vs[0].indicesTest))\n",
    "    print(len(particiones_vs[0].indicesTrain))\n",
    "    \n",
    "    #vamos a probar la valicadión cruzada: por ejemplo, dividimos el dataset en 5 conjuntos\n",
    "    vc = ValidacionCruzada(5)\n",
    "    particiones_vc = vc.creaParticiones(d.datos)\n",
    "    #particiones_vc debería contener 5 elementos, en los cuales el test_data y el training_data esté repartido en proporción\n",
    "    # 1/5 y 4/5 respectivamente.\n",
    "    print(len(particiones_vc))\n",
    "    print(len(particiones_vc[0].indicesTest)/d.datos.shape[0])\n",
    "    print(len(particiones_vc[0].indicesTrain)/d.datos.shape[0])\n",
    "    #como podemos ver, los valores están bien repartidos.\n",
    "    \n",
    "    "
   ]
  },
  {
   "cell_type": "raw",
   "metadata": {},
   "source": [
    "\n"
   ]
  },
  {
   "cell_type": "code",
   "execution_count": null,
   "metadata": {},
   "outputs": [],
   "source": []
  }
 ],
 "metadata": {
  "kernelspec": {
   "display_name": "Python 3",
   "language": "python",
   "name": "python3"
  },
  "language_info": {
   "codemirror_mode": {
    "name": "ipython",
    "version": 3
   },
   "file_extension": ".py",
   "mimetype": "text/x-python",
   "name": "python",
   "nbconvert_exporter": "python",
   "pygments_lexer": "ipython3",
   "version": "3.8.3"
  }
 },
 "nbformat": 4,
 "nbformat_minor": 4
}
